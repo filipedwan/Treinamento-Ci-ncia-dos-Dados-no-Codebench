{
 "cells": [
  {
   "cell_type": "markdown",
   "metadata": {},
   "source": [
    "## Validação do modelo preditivo\n",
    "\n",
    "**Revisão:**\n",
    "\n",
    "1. Treinando e testando com os mesmos dados\n",
    "2. Divisão de treinamento e teste\n",
    "3. Validação cruzada (k-fold)\n",
    "\n",
    "**Problema:**\n",
    "\n",
    "Imagine um problema de classificação onde temos 990 amostras de uma classe 'A' e 10 amostras da classe 'B'\n",
    "\n",
    "* Note que um classificador que estima sempre a classe 'A' obterá uma acurácia de 99%.\n",
    "* Acurácia não nos dá informações sobre a distribuição das classes;\n",
    "* Não informa também onde (em que classes) ocorreram os erros;\n",
    "\n",
    "### Matrix de confusão\n",
    "\n",
    "* É uma matriz que descreve o desempenho de um modelo de classificação\n",
    "* Quantifica o número de Verdadeiros Positivos (VP), Verdadeiros Negativos (VN), Falsos Positivos (FP) e Falsos Negativos (FN);\n",
    "\n",
    "### Exemplo:\n",
    "\n",
    "* Valor Real (VR) - linhas\n",
    "* Valor Real (VP) - colunas\n",
    "      \n",
    "|VR/VP|  0  |  1  |\n",
    "|-----|-----|-----|\n",
    "|  0  |  VN |  FP |\n",
    "|  1  |  FN |  VP |\n",
    "\n",
    "Iremos exemplificá-la com o uso do benchemark de classificação de cancer de mama.\n",
    "<br>\n",
    "http://scikit-learn.org/stable/modules/generated/sklearn.datasets.load_breast_cancer.html#sklearn.datasets.load_breast_cancer\n",
    "<br>\n",
    "Note que no contexto do dataset *breast_cancer*, temos:\n",
    "\n",
    "* VN: a predição de que a instância não estava com cancer foi correta.\n",
    "* VP: a predição de que a instância estava com cancer foi correta.\n",
    "* FN: a predição de que a instância não estava com cancer foi incorreta. Na verdade, ela tinha cancer (Erro Tipo II).\n",
    "* FP: a predição de que a instância estava com cancer foi incorreta. Na verdade, ela não tinha cancer (Erro Tipo I)."
   ]
  },
  {
   "cell_type": "code",
   "execution_count": 19,
   "metadata": {},
   "outputs": [
    {
     "name": "stdout",
     "output_type": "stream",
     "text": [
      "['malignant' 'benign']\n",
      "['mean radius' 'mean texture' 'mean perimeter' 'mean area'\n",
      " 'mean smoothness' 'mean compactness' 'mean concavity'\n",
      " 'mean concave points' 'mean symmetry' 'mean fractal dimension'\n",
      " 'radius error' 'texture error' 'perimeter error' 'area error'\n",
      " 'smoothness error' 'compactness error' 'concavity error'\n",
      " 'concave points error' 'symmetry error' 'fractal dimension error'\n",
      " 'worst radius' 'worst texture' 'worst perimeter' 'worst area'\n",
      " 'worst smoothness' 'worst compactness' 'worst concavity'\n",
      " 'worst concave points' 'worst symmetry' 'worst fractal dimension']\n"
     ]
    }
   ],
   "source": [
    "from sklearn.datasets import load_breast_cancer\n",
    "\n",
    "data = load_breast_cancer()\n",
    "\n",
    "print(data.target_names)\n",
    "print(data.feature_names)\n",
    "\n",
    "X = data.data\n",
    "y = data.target"
   ]
  },
  {
   "cell_type": "code",
   "execution_count": 40,
   "metadata": {},
   "outputs": [
    {
     "name": "stdout",
     "output_type": "stream",
     "text": [
      "GradientBoostingClassifier:  0.959064327485\n",
      "DecisionTreeClassifier:  0.918128654971\n"
     ]
    }
   ],
   "source": [
    "from sklearn.ensemble import GradientBoostingClassifier\n",
    "from sklearn.tree import DecisionTreeClassifier\n",
    "from sklearn.metrics import accuracy_score\n",
    "\n",
    "from sklearn.model_selection import train_test_split\n",
    "\n",
    "X_train, X_test, y_train, y_test = train_test_split(X, y, test_size=.3,random_state=42)\n",
    "\n",
    "gb = GradientBoostingClassifier()\n",
    "dt = DecisionTreeClassifier()\n",
    "\n",
    "gb.fit(X_train, y_train)\n",
    "y_pred_gb = gb.predict(X_test)\n",
    "\n",
    "dt.fit(X_train, y_train)\n",
    "y_pred_dt = dt.predict(X_test)\n",
    "\n",
    "print('GradientBoostingClassifier: ',accuracy_score(y_test, y_pred_gb))\n",
    "print('DecisionTreeClassifier: ',accuracy_score(y_test, y_pred_dt))"
   ]
  },
  {
   "cell_type": "markdown",
   "metadata": {},
   "source": [
    "### Matriz de confusão no sklearn\n",
    "\n",
    "* Importante mencionar que o primeiro parâmetro são os valores verdadeiros e o segundo os valores que foram estimados"
   ]
  },
  {
   "cell_type": "code",
   "execution_count": 43,
   "metadata": {},
   "outputs": [
    {
     "name": "stdout",
     "output_type": "stream",
     "text": [
      "Matriz de Confusão GradientBoostingClassifier:\n",
      "[[ 59   4]\n",
      " [  3 105]]\n",
      "Matriz de Confusão DecisionTreeClassifier:\n",
      "[[59  4]\n",
      " [10 98]]\n"
     ]
    }
   ],
   "source": [
    "from sklearn.metrics import confusion_matrix\n",
    "print('Matriz de Confusão GradientBoostingClassifier:')\n",
    "print(confusion_matrix(y_test, y_pred_gb))\n",
    "\n",
    "print('Matriz de Confusão DecisionTreeClassifier:')\n",
    "print(confusion_matrix(y_test, y_pred_dt))"
   ]
  },
  {
   "cell_type": "markdown",
   "metadata": {},
   "source": [
    "## Outras Métricas de Validação\n",
    "\n",
    "Existem muitas métricas que usam a matriz de confusão para validação do modelo preditivo.\n",
    "<br>\n",
    "Exemplo: True Positive Rate (TPR), True Negative Rate (TNR), Precision, ROC curves, F1 score, Matthews correlation coefficient, etc.\n",
    "<br>\n",
    "Obs.: \n",
    "* TPR também é conhecido como Sensitivity ou Recall (positivo).\n",
    "* TNR também é conhecido como Specificity ou Recall (negativo)."
   ]
  },
  {
   "cell_type": "markdown",
   "metadata": {},
   "source": [
    "## Materiais para estudo:\n",
    "\n",
    "* [Model evaluation](http://scikit-learn.org/stable/modules/model_evaluation.html)\n",
    "* [Statistical Measures - Wikipedia](https://en.wikipedia.org/wiki/Sensitivity_and_specificity)"
   ]
  }
 ],
 "metadata": {
  "kernelspec": {
   "display_name": "Python 3",
   "language": "python",
   "name": "python3"
  },
  "language_info": {
   "codemirror_mode": {
    "name": "ipython",
    "version": 3
   },
   "file_extension": ".py",
   "mimetype": "text/x-python",
   "name": "python",
   "nbconvert_exporter": "python",
   "pygments_lexer": "ipython3",
   "version": "3.6.1"
  }
 },
 "nbformat": 4,
 "nbformat_minor": 2
}
