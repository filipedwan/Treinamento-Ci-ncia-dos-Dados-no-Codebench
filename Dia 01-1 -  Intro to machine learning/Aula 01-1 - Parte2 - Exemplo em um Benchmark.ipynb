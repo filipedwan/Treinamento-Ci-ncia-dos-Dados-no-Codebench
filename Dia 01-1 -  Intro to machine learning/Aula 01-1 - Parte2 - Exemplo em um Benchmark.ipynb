{
 "cells": [
  {
   "cell_type": "markdown",
   "metadata": {},
   "source": [
    "# Trabalhando com um dataset famoso no scikit-learn\n",
    "\n",
    "Iremos usar novamente o scikit-learn. Abaixo segue algumas vantagens e desvantagens dessa biblioteca:\n",
    "\n",
    "* Vantagens:\n",
    "    * Interface consistente com ótima documentação;\n",
    "    * Muitas funções e módulos disponíveis para engenharia de atributos, validação de modelo e etc;\n",
    "    * comunidade ativa para desenvolvimento e suport;\n",
    "    * possui ferramentas para otimização dos modelos como tuning de hiperparâmetros\n",
    "* Desvantagens:\n",
    "    * Pouca ênfase na interpretação das relações existentes nos dados;\n",
    "    * Tem uma dificuldade inicial para começar maior do que ferramentas como o R ou Weka.\n",
    "    \n",
    "Artigo sobre a filosofia da biblioteca e funcionalidades principais:\n",
    "<br>\n",
    "Pedregosa, Fabian, et al. **\"Scikit-learn: Machine learning in Python.\"** Journal of machine learning research 12.Oct (2011): 2825-2830.\n",
    "\n",
    "<br>\n",
    "Site oficial:\n",
    "http://scikit-learn.org/stable/index.html\n",
    "\n",
    "\n",
    "## <font color=red>Créditos: </font>\n",
    "\n",
    "Esta aula foi baseado nos materias disponibilizados por Just Markham.\n",
    "<br>\n",
    "link: https://github.com/justmarkham/scikit-learn-videos"
   ]
  },
  {
   "cell_type": "code",
   "execution_count": 2,
   "metadata": {
    "collapsed": true
   },
   "outputs": [],
   "source": [
    "#comando para habilitar o autocomplete:\n",
    "%config IPCompleter.greedy=True"
   ]
  },
  {
   "cell_type": "code",
   "execution_count": 75,
   "metadata": {},
   "outputs": [
    {
     "data": {
      "text/html": [
       "<iframe src=http://scikit-learn.org/stable/tutorial/machine_learning_map/index.html width=1000 height=350></iframe>"
      ],
      "text/plain": [
       "<IPython.core.display.HTML object>"
      ]
     },
     "execution_count": 75,
     "metadata": {},
     "output_type": "execute_result"
    }
   ],
   "source": [
    "from IPython.display import display, HTML\n",
    "#HTML('<iframe src=http://scikit-learn.org/stable/index.html width=1000 height=350></iframe>')\n",
    "HTML('<iframe src=http://scikit-learn.org/stable/tutorial/machine_learning_map/index.html width=1000 height=350></iframe>')"
   ]
  },
  {
   "cell_type": "markdown",
   "metadata": {},
   "source": [
    "## Acessando a documentação das funções"
   ]
  },
  {
   "cell_type": "code",
   "execution_count": 4,
   "metadata": {
    "collapsed": true
   },
   "outputs": [],
   "source": [
    "from sklearn import datasets\n",
    "datasets?"
   ]
  },
  {
   "cell_type": "markdown",
   "metadata": {},
   "source": [
    "## Introdução ao iris dataset\n",
    "\n",
    "Link: http://archive.ics.uci.edu/ml/datasets/Iris\n",
    "\n",
    "O dataset tem 50 amostras (instâncias) de 3 diferentes espécies de iris (150 amostras no total). O objetivo é classificar o espécie da iris ['setosa' 'versicolor' 'virginica'].\n",
    "* Atributos utilizados:\n",
    "    * sepal length\n",
    "    * sepal width\n",
    "    * petal length\n",
    "    * petal width\n",
    "\n",
    "<img src=\"figure/iris.png\"/>"
   ]
  },
  {
   "cell_type": "markdown",
   "metadata": {},
   "source": [
    "## Carregando o iris dataset\n",
    "\n",
    "* O sklearn possui um pacote com alguns famosos datasets que podem ser usados como benchmark. \n",
    "* No iris dataset, a função que gera o dataset retorna um dicionário com dois itens:\n",
    "    * um array $n\\_samples*n\\_features$, cuja chave é **data**.\n",
    "    * um array de tamanho $n\\_samples$ contendo as classes, cuja chave é ** target **.\n",
    "\n",
    "<br>\n",
    "* É comum utilizarmos a tupla $(X, y)$ para representar os atributos e classes, \n",
    "    * onde $X$ é um array $n\\_samples*n\\_features$ e $y$ é um array de tamanho $n\\_samples$ contendo as classes."
   ]
  },
  {
   "cell_type": "code",
   "execution_count": 5,
   "metadata": {
    "collapsed": true
   },
   "outputs": [],
   "source": [
    "from sklearn.datasets import load_iris\n",
    "\n",
    "iris = load_iris()"
   ]
  },
  {
   "cell_type": "markdown",
   "metadata": {},
   "source": [
    "## Imprimindo as 5 últimas instâncias\n",
    "\n",
    "Observe que cada linha representa uma flor e cada coluna representa os 4 atributos apresentados anteriormente."
   ]
  },
  {
   "cell_type": "code",
   "execution_count": 6,
   "metadata": {},
   "outputs": [
    {
     "data": {
      "text/plain": [
       "array([[ 6.7,  3. ,  5.2,  2.3],\n",
       "       [ 6.3,  2.5,  5. ,  1.9],\n",
       "       [ 6.5,  3. ,  5.2,  2. ],\n",
       "       [ 6.2,  3.4,  5.4,  2.3],\n",
       "       [ 5.9,  3. ,  5.1,  1.8]])"
      ]
     },
     "execution_count": 6,
     "metadata": {},
     "output_type": "execute_result"
    }
   ],
   "source": [
    "iris.data[-5:]"
   ]
  },
  {
   "cell_type": "markdown",
   "metadata": {},
   "source": [
    "## Imprimindo as classes das 5 últimas instâncias\n",
    "\n",
    "A seguir vemos que todas as flores apresentadas na matriz anterior pertencem a classe 2."
   ]
  },
  {
   "cell_type": "code",
   "execution_count": 7,
   "metadata": {},
   "outputs": [
    {
     "data": {
      "text/plain": [
       "array([2, 2, 2, 2, 2])"
      ]
     },
     "execution_count": 7,
     "metadata": {},
     "output_type": "execute_result"
    }
   ],
   "source": [
    "iris.target[-5:]"
   ]
  },
  {
   "cell_type": "markdown",
   "metadata": {},
   "source": [
    "## Represetação das classes\n",
    "\n",
    "Note que o valor de target $2$ representa a classe 'virginica'."
   ]
  },
  {
   "cell_type": "code",
   "execution_count": 8,
   "metadata": {},
   "outputs": [
    {
     "data": {
      "text/plain": [
       "array(['setosa', 'versicolor', 'virginica'], \n",
       "      dtype='<U10')"
      ]
     },
     "execution_count": 8,
     "metadata": {},
     "output_type": "execute_result"
    }
   ],
   "source": [
    "iris.target_names"
   ]
  },
  {
   "cell_type": "markdown",
   "metadata": {},
   "source": [
    "## Shape dos Atributos e classes\n",
    "\n",
    "* Observe que as classes e os atributos são objetos distintos, mas com o mesmo número de colunas. \n",
    "    * Isso é um requerimento para lidarmos com algoritmos de aprendizagem de máquina. \n",
    "* Note que para cada linha do array de atributos precisamos de uma resposta (classe) para a pergunta: qual a espécie desta flor?\n",
    "* Para melhor entendimento, apresenteramoes os shapes dos arrays:"
   ]
  },
  {
   "cell_type": "code",
   "execution_count": 9,
   "metadata": {},
   "outputs": [
    {
     "data": {
      "text/plain": [
       "(150, 4)"
      ]
     },
     "execution_count": 9,
     "metadata": {},
     "output_type": "execute_result"
    }
   ],
   "source": [
    "iris.data.shape"
   ]
  },
  {
   "cell_type": "code",
   "execution_count": 10,
   "metadata": {},
   "outputs": [
    {
     "data": {
      "text/plain": [
       "(150,)"
      ]
     },
     "execution_count": 10,
     "metadata": {},
     "output_type": "execute_result"
    }
   ],
   "source": [
    "iris.target.shape"
   ]
  },
  {
   "cell_type": "code",
   "execution_count": 11,
   "metadata": {
    "collapsed": true
   },
   "outputs": [],
   "source": [
    "X = iris.data\n",
    "y = iris.target"
   ]
  },
  {
   "cell_type": "markdown",
   "metadata": {},
   "source": [
    "# K-nearest neighbors (KNN) - classificação\n",
    "\n",
    "Ideia geral do algoritmo:\n",
    "\n",
    "* Pega um valor k;\n",
    "* Procura as k instâncias nos dados de treinamento que são mais próximas de uma dada instância cuja classe não é conhecida;\n",
    "* Use a classe mais popular das k instâncias mais próximas para como a classe prevista da instância cuja classe não era conhecida.\n",
    "\n",
    "### Exemplo de dados de treinamento:\n",
    "\n",
    "<img src=\"figure/train_data_knn.png\" \\>\n",
    "\n",
    "Após o treinamento são criadas superfícies de decisão (cores em background). Nesse caso, temos o **k=1**.\n",
    "\n",
    "<img src=\"figure/train_data_knn_k-1.png\" \\>\n",
    "\n",
    "Treinamento com **k=5**.\n",
    "\n",
    "<img src=\"figure/train_data_knn_k-5.png\" \\>\n",
    "\n",
    "obs.: as áreas brancas são os locais onde houve empate."
   ]
  },
  {
   "cell_type": "markdown",
   "metadata": {},
   "source": [
    "## Treinamento do modelo\n",
    "\n",
    "* O modelo knn irá aprender o relacionamento entre $X$ e $y$.\n",
    "* Nesse momento podem ser especificados parâmetros (também conhecidos como hiperparâmetros) para ajustar o modelo aos dados. \n",
    "    * Caso não sejam especificados, o modelo utilizará os valores padrão."
   ]
  },
  {
   "cell_type": "code",
   "execution_count": 12,
   "metadata": {},
   "outputs": [
    {
     "data": {
      "text/plain": [
       "KNeighborsClassifier(algorithm='auto', leaf_size=30, metric='minkowski',\n",
       "           metric_params=None, n_jobs=1, n_neighbors=1, p=2,\n",
       "           weights='uniform')"
      ]
     },
     "execution_count": 12,
     "metadata": {},
     "output_type": "execute_result"
    }
   ],
   "source": [
    "from sklearn.neighbors import KNeighborsClassifier\n",
    "knn = KNeighborsClassifier(n_neighbors = 1)\n",
    "knn"
   ]
  },
  {
   "cell_type": "markdown",
   "metadata": {},
   "source": [
    "## Treinando e testando com a mesma base de dados"
   ]
  },
  {
   "cell_type": "code",
   "execution_count": 13,
   "metadata": {},
   "outputs": [
    {
     "data": {
      "text/plain": [
       "array([0, 0, 0, 0, 0, 0, 0, 0, 0, 0, 0, 0, 0, 0, 0, 0, 0, 0, 0, 0, 0, 0, 0,\n",
       "       0, 0, 0, 0, 0, 0, 0, 0, 0, 0, 0, 0, 0, 0, 0, 0, 0, 0, 0, 0, 0, 0, 0,\n",
       "       0, 0, 0, 0, 1, 1, 1, 1, 1, 1, 1, 1, 1, 1, 1, 1, 1, 1, 1, 1, 1, 1, 1,\n",
       "       1, 1, 1, 1, 1, 1, 1, 1, 1, 1, 1, 1, 1, 1, 1, 1, 1, 1, 1, 1, 1, 1, 1,\n",
       "       1, 1, 1, 1, 1, 1, 1, 1, 2, 2, 2, 2, 2, 2, 2, 2, 2, 2, 2, 2, 2, 2, 2,\n",
       "       2, 2, 2, 2, 2, 2, 2, 2, 2, 2, 2, 2, 2, 2, 2, 2, 2, 2, 2, 2, 2, 2, 2,\n",
       "       2, 2, 2, 2, 2, 2, 2, 2, 2, 2, 2, 2])"
      ]
     },
     "execution_count": 13,
     "metadata": {},
     "output_type": "execute_result"
    }
   ],
   "source": [
    "knn.fit(X,y)\n",
    "y_pred = knn.predict(X)\n",
    "y_pred"
   ]
  },
  {
   "cell_type": "markdown",
   "metadata": {},
   "source": [
    "## Avaliando o modelo"
   ]
  },
  {
   "cell_type": "code",
   "execution_count": 14,
   "metadata": {},
   "outputs": [
    {
     "data": {
      "text/plain": [
       "1.0"
      ]
     },
     "execution_count": 14,
     "metadata": {},
     "output_type": "execute_result"
    }
   ],
   "source": [
    "from sklearn.metrics import accuracy_score\n",
    "\n",
    "accuracy_score(y, y_pred)"
   ]
  },
  {
   "cell_type": "markdown",
   "metadata": {},
   "source": [
    "### KNN com k=5"
   ]
  },
  {
   "cell_type": "code",
   "execution_count": 15,
   "metadata": {},
   "outputs": [
    {
     "data": {
      "text/plain": [
       "0.96666666666666667"
      ]
     },
     "execution_count": 15,
     "metadata": {},
     "output_type": "execute_result"
    }
   ],
   "source": [
    "knn = KNeighborsClassifier(n_neighbors = 5)\n",
    "knn.fit(X,y)\n",
    "y_pred = knn.predict(X)\n",
    "accuracy_score(y, y_pred)"
   ]
  },
  {
   "cell_type": "markdown",
   "metadata": {},
   "source": [
    "### Exercício\n",
    "\n",
    "Utilizando o dataset iris, qual o melhor valor de k para o algorimto KNN?"
   ]
  },
  {
   "cell_type": "markdown",
   "metadata": {},
   "source": [
    "## Overfitting  e Underfitting\n",
    "\n",
    "* Treinar e testar com a mesma base de dados não é uma boa estratégia. \n",
    "* Em aprendizagem de máquina, o objetivo é que os modelos preditivos consigam generalizar os padrões que aprenderam no treinomento em dados que eles ainda não viram. \n",
    "    * Assim, a interseção entre a base de treino e teste deve ser vazia.\n",
    "    * Dessa forma, maximizar a acurácia no treino pode significar a construção de um modelo complexo que não necessariamente generalize bem.\n",
    "\n",
    "<br>\n",
    "**Exemplo:**\n",
    "\n",
    "<img src=\"figure/overfitting.png\" \\>\n",
    "\n",
    "* Na Figura, o eixo x e y representam dois atributos e as cores vermelho e azul representam duas classes. \n",
    "* A **superfície de decisão** verde é uma hipótese que está superajustada (overfit) aos dados de treino (aprende ruídos), enquanto que a **superfície de decisão** preta detecta o padrão (sinal) nos dados.\n",
    "\n",
    "<br>\n",
    "**Dilema Viés-Variância**\n",
    "* O erro de predição pode ser decomposto em **viés e variância** (Bias and Variance Tradeoff). \n",
    "* No caso do KNN, quanto menor o valor de k, maior a variância e menor o viés. \n",
    "* Quanto maior o valor de k, menor a variância e maior o viés. \n",
    "* Observe que o segredo está em encontrar o um equilíbrio entre o viés e a variância, a fim de combater o overfittig.\n",
    "\n",
    "<br>\n",
    "**Segue algumas dicas para lidar com o viés e variância:**\n",
    "\n",
    "* Combata os seus instintos\n",
    "    * Em geral, temos a tendência de achar que devemos minimizar o viés, mesmo ao custo de aumentar a variância, construindo modelos extramente complexos que não generalizam bem com dados novos.\n",
    "* Bagging and Resampling\n",
    "* Melhorar a amostra (base de dados)\n",
    "<br>\n",
    "<br>\n",
    "Por fim, se a complexidade do seu modelo ultrapassar um limear de equilíbrio (optimal model complexity), então haverá um overfitting. Entretanto, se modelo tender ao superficial (complexidade abaixo do optimal model complexity), então haverá um underfitting. A Figura abaixo ilustra como a análise de viés e variância pode contribuir para o erro de predição e, consequentemente, para o overfitting e underfitting.\n",
    "\n",
    "<img src=\"figure/biasvariance.png\" \\>\n",
    "\n",
    "<br>\n",
    "\n",
    "Para uma maior compreensão sobre overfitting, sugiro as seguintes fontes de estudo:\n",
    "* [Estimando o erro de predição](https://www.youtube.com/watch?v=_2ij6eaaSl0&t=2m34s)\n",
    "* [Bias and Variance Tradeoff](http://scott.fortmann-roe.com/docs/BiasVariance.html)\n",
    "* Domingos, Pedro. **\"A few useful things to know about machine learning.\"** Communications of the ACM 55.10 (2012): 78-87."
   ]
  },
  {
   "cell_type": "markdown",
   "metadata": {},
   "source": [
    "## Treinando e testando dados diferentes\n",
    "\n",
    "* A função $train\\_test\\_split$ divide a base de dados em duas partes;\n",
    "* O parâmetro $test\\_size$ indica o percentual dos dados que será utilizado para teste.\n",
    "    * O restante é utilizado para treino. \n",
    "* O parâmetro random_state é a semente para a seleção aleatória das instâncias que irão compor a base de treino e teste."
   ]
  },
  {
   "cell_type": "code",
   "execution_count": 52,
   "metadata": {
    "collapsed": true
   },
   "outputs": [],
   "source": [
    "from sklearn.model_selection import train_test_split\n",
    "\n",
    "X_train, X_test, y_train, y_test = train_test_split(X, y, test_size=0.4, random_state=4)"
   ]
  },
  {
   "cell_type": "markdown",
   "metadata": {},
   "source": [
    "* A Figura abaixo mostra um base de dados com 5 instâncias, 2 atributos e na última coluna a classe. \n",
    "* Nesse caso, 40% dos dados foram selecionados aleatoriamente para teste e 60% para treinamento.\n",
    "\n",
    "<img src=\"figure/train_test_split.png\"/>"
   ]
  },
  {
   "cell_type": "code",
   "execution_count": 53,
   "metadata": {},
   "outputs": [
    {
     "name": "stdout",
     "output_type": "stream",
     "text": [
      "(90, 4)\n",
      "(60, 4)\n"
     ]
    }
   ],
   "source": [
    "# shapes dos novos X\n",
    "print(X_train.shape)\n",
    "print(X_test.shape)"
   ]
  },
  {
   "cell_type": "code",
   "execution_count": 54,
   "metadata": {},
   "outputs": [
    {
     "name": "stdout",
     "output_type": "stream",
     "text": [
      "(90,)\n",
      "(60,)\n"
     ]
    }
   ],
   "source": [
    "# shapes dos novos y\n",
    "print(y_train.shape)\n",
    "print(y_test.shape)"
   ]
  },
  {
   "cell_type": "code",
   "execution_count": 59,
   "metadata": {},
   "outputs": [
    {
     "name": "stdout",
     "output_type": "stream",
     "text": [
      "KNN com k=1 obteve acurácia igual a 0.95\n",
      "KNN com k=5 obteve acurácia igual a 0.97\n"
     ]
    }
   ],
   "source": [
    "def treino_test_knn(k):\n",
    "    clf = KNeighborsClassifier(n_neighbors=k)\n",
    "    clf.fit(X_train, y_train)\n",
    "    y_pred = clf.predict(X_test)\n",
    "    return accuracy_score(y_test, y_pred)\n",
    "    #print('KNN com k=%d obteve acurácia igual a %.2f' % (k, accuracy_score(y_test, y_pred)))\n",
    "\n",
    "acc = treino_test_knn(1)\n",
    "print('KNN com k=1 obteve acurácia igual a %.2f' % (acc))\n",
    "acc = treino_test_knn(5)\n",
    "print('KNN com k=5 obteve acurácia igual a %.2f' % (acc))"
   ]
  },
  {
   "cell_type": "markdown",
   "metadata": {},
   "source": [
    "### Será que podemos achar um valor melhor para $k$ ?\n",
    "\n",
    "Vamos testar o k indo de 1 até 30."
   ]
  },
  {
   "cell_type": "code",
   "execution_count": 60,
   "metadata": {
    "collapsed": true
   },
   "outputs": [],
   "source": [
    "k_range = list(range(1,31))\n",
    "acuracias = []\n",
    "for k in k_range:\n",
    "    acc = treino_test_knn(k)\n",
    "    acuracias.append(acc)"
   ]
  },
  {
   "cell_type": "markdown",
   "metadata": {},
   "source": [
    "Agora vamos plotar o relacionamento entre o valor de $k$ e acurácia do modelo."
   ]
  },
  {
   "cell_type": "code",
   "execution_count": 74,
   "metadata": {},
   "outputs": [
    {
     "data": {
      "text/plain": [
       "<matplotlib.text.Text at 0x7f1283339160>"
      ]
     },
     "execution_count": 74,
     "metadata": {},
     "output_type": "execute_result"
    },
    {
     "data": {
      "image/png": "[encoded data removed]",
      "text/plain": [
       "<matplotlib.figure.Figure at 0x7f128330f518>"
      ]
     },
     "metadata": {},
     "output_type": "display_data"
    }
   ],
   "source": [
    "import matplotlib.pyplot as plt\n",
    "\n",
    "#permite os gráficos aparecerem no notebook\n",
    "%matplotlib inline\n",
    "\n",
    "plt.figure(figsize=(14,7))\n",
    "plt.plot(k_range, acuracias)\n",
    "plt.xlabel('Valores de K no KNN')\n",
    "plt.ylabel('Acurácia')"
   ]
  },
  {
   "cell_type": "markdown",
   "metadata": {},
   "source": [
    "## Pontos negativos e positivos do $train\\_test\\_split$\n",
    "\n",
    "* (Negativo) Pode acontecer uma alta variação na acurácia de estimativas de dados que não estão na base de dados;\n",
    "    * K-fold cross-validation é uma boa alternativa para este problema\n",
    "* (Negativo) Base de dados desbalanceada;\n",
    "* (Positivo) Rápidez e flexibilidade;"
   ]
  },
  {
   "cell_type": "markdown",
   "metadata": {},
   "source": [
    "## Validação cruzada (k-fold cross-validation)\n",
    "\n",
    "Funciona da seguinte forma:\n",
    "\n",
    "1. Dividir o dataset em k partições (folds) com o mesmo tamanho;\n",
    "2. Usar a primeira partição como teste e a união das demais como treino;\n",
    "3. Calcular a acurácia no teste;\n",
    "4. Repetir os passos 2 e 3 k vezes, usando cada uma das k partições para teste;\n",
    "5. Calcular a média das acurácias obtidas nos k testes;\n",
    "\n",
    "A Figura abaixo mostra a validação cruzada para 5 partições (folds):\n",
    "\n",
    "<img src=\"figure/cross_validation_diagram.png\" \\>"
   ]
  },
  {
   "cell_type": "code",
   "execution_count": 85,
   "metadata": {},
   "outputs": [
    {
     "name": "stdout",
     "output_type": "stream",
     "text": [
      "Iteração                     Dados de Treinamento                            Dados de Teste       \n",
      "    1     [ 5  6  7  8  9 10 11 12 13 14 15 16 17 18 19 20 21 22 23 24]        [0 1 2 3 4]       \n",
      "    2     [ 0  1  2  3  4 10 11 12 13 14 15 16 17 18 19 20 21 22 23 24]        [5 6 7 8 9]       \n",
      "    3     [ 0  1  2  3  4  5  6  7  8  9 15 16 17 18 19 20 21 22 23 24]     [10 11 12 13 14]     \n",
      "    4     [ 0  1  2  3  4  5  6  7  8  9 10 11 12 13 14 20 21 22 23 24]     [15 16 17 18 19]     \n",
      "    5     [ 0  1  2  3  4  5  6  7  8  9 10 11 12 13 14 15 16 17 18 19]     [20 21 22 23 24]     \n"
     ]
    }
   ],
   "source": [
    "from sklearn.model_selection import KFold\n",
    "\n",
    "#simulação de divisão de uma sequencia de 0..24 em 5 partições. Note que não embaralhamos os dados.\n",
    "kf = KFold(n_splits=5, shuffle=False)\n",
    "kf = kf.split(range(25))\n",
    "\n",
    "print('{} {:^61} {:^27}'.format('Iteração', 'Dados de Treinamento', 'Dados de Teste'))\n",
    "\n",
    "for i, data in enumerate(kf, start=1):\n",
    "    print('{:^9} {} {:^25}'.format(i, data[0], str(data[1])))"
   ]
  },
  {
   "cell_type": "markdown",
   "metadata": {},
   "source": [
    "* Note que para cada iteração as instâncias estavam ou na base de treino ou na base de teste.\n",
    "* Cada instância aparece na base de teste exatamente uma vez;\n",
    "\n",
    "### Pontos positivos da validação cruzada\n",
    "\n",
    "* Mais adequado para estimar amostras novas;\n",
    "* Modo mais eficiente de usar os dados, uma vez que cada instância é usada no treino e no teste;\n",
    "\n",
    "### Recomendações para validação cruzada\n",
    "\n",
    "1. O $k$ pode ser qualquer valor, mas geralmente é utilizado $k=10$;\n",
    "2. Para problemas de classificação, recomenda-se a amostragem estratificada para a criação das partições.\n",
    "    * Cada classe é atribuída às partições em proporções iguais, a fim de evitar desbalanceamento nas partições;\n",
    "    * a função *cross_val_scole* do sklearn faz isso por padrão;\n",
    "\n",
    "### Exemplo de uso da validação cruzada"
   ]
  },
  {
   "cell_type": "code",
   "execution_count": 91,
   "metadata": {},
   "outputs": [
    {
     "data": {
      "text/plain": [
       "array([ 1.        ,  0.93333333,  1.        ,  1.        ,  1.        ,\n",
       "        0.93333333,  0.93333333,  1.        ,  1.        ,  1.        ])"
      ]
     },
     "execution_count": 91,
     "metadata": {},
     "output_type": "execute_result"
    }
   ],
   "source": [
    "from sklearn.model_selection import cross_val_score\n",
    "\n",
    "knn = KNeighborsClassifier(n_neighbors=20)\n",
    "scores = cross_val_score(knn, X, y, cv=10, scoring='accuracy')\n",
    "scores"
   ]
  },
  {
   "cell_type": "code",
   "execution_count": 99,
   "metadata": {},
   "outputs": [
    {
     "name": "stdout",
     "output_type": "stream",
     "text": [
      "Acurácia = 0.98 [+/- 0.03]\n"
     ]
    }
   ],
   "source": [
    "#acurácia média e o desvio padrão\n",
    "print('Acurácia = %.2f [+/- %.2f]' % (scores.mean(),scores.std()))"
   ]
  },
  {
   "cell_type": "markdown",
   "metadata": {},
   "source": [
    "## <font color=red> Exercício em Sala </font>\n",
    "\n",
    "1. Experimente navegar pela API do scikit-learn e realizar o treinamento e teste com uma novo algoritmo de classificação. O resultado foi melhor ou pior? A diferença é estatisticamente significativa?"
   ]
  },
  {
   "cell_type": "markdown",
   "metadata": {},
   "source": [
    "## Melhorias para a validação cruzada:\n",
    "\n",
    "**Executar a validação cruzada várias vezes**\n",
    "* Repetir a validação cruzada vérias vezes (com divisões aleatórias nos dados) e calcular a média dos resultados aumenta o nível de confiança.\n",
    "* Isso pode gerar uma estimativa mais confiável em relação à dados que novos, pois reduz-se a veriância associada a uma única execução da validação cruzada;\n",
    "\n",
    "**Separar um parte dos dados**\n",
    "\n",
    "* Separe uma parte dos dados antes de começar o processo de construção do modelo preditivo;\n",
    "* Encontre o melhor modelo usando validação cruzada nos dados remanescentes e teste este modelo usando os dados separados na etapa anterior;\n",
    "* Neste caso temos uma validação mais confiável, uma vez que verdadeiramente o teste foi realizado com dados ainda não visto pelo modelo;\n",
    "\n",
    "** Engenharia de atributos nas iterações da validação cruzada **\n",
    "\n",
    "* Normalmente, a engenharia de atributos acontece antes da validação cruzada;\n",
    "* Ao invés disso, realize a engenharia de atributos durante as interações da validação cruzada;\n",
    "* Estimativa mais confiável com dados novos, uma vez que esse procedimento irá simular mais apropriadamente o momento em que o modelo irá ser testado com dados novos;\n",
    "\n",
    "## Materiais para estudo:\n",
    "\n",
    "* documentação do scikit-learn: [Validação Cruzada](http://scikit-learn.org/stable/modules/cross_validation.html), [Seleção de Modelo](http://scikit-learn.org/stable/modules/model_evaluation.html)\n",
    "* Seção 5.1 do livro [An Introduction to Statistical Learning](http://www-bcf.usc.edu/~gareth/ISL/) e os vídeos relacionados: [K-fold and leave-one-out cross-validation](https://www.youtube.com/watch?v=nZAM5OXrktY&list=PL5-da3qGB5IA6E6ZNXu7dp89_uv8yocmf), [Cross-validation the right and wrong ways](https://www.youtube.com/watch?v=S06JpVoNaA0&list=PL5-da3qGB5IA6E6ZNXu7dp89_uv8yocmf);\n",
    "* Harvard CS109: [Cross-Validation: The Right and Wrong Way](https://github.com/cs109/content/blob/master/lec_10_cross_val.ipynb)"
   ]
  }
 ],
 "metadata": {
  "kernelspec": {
   "display_name": "Python 3",
   "language": "python",
   "name": "python3"
  },
  "language_info": {
   "codemirror_mode": {
    "name": "ipython",
    "version": 3
   },
   "file_extension": ".py",
   "mimetype": "text/x-python",
   "name": "python",
   "nbconvert_exporter": "python",
   "pygments_lexer": "ipython3",
   "version": "3.6.1"
  }
 },
 "nbformat": 4,
 "nbformat_minor": 2
}
