{
 "cells": [
  {
   "cell_type": "markdown",
   "metadata": {},
   "source": [
    "# Intro to Machine Learning\n",
    "\n",
    "### Exemplo de classificação binária\n",
    "\n",
    "Neste exemplo temos como **objetivo** inferir se uma dada pessoa é um **político** ou não\n",
    "\n",
    "Para tanto, utilizaremos 5 atributos (características ou variáveis independentes), os quais serão baseados nas seguintes perguntas:\n",
    "* salario acima de 20 mil **(A1)**?\n",
    "* recebe mais de 10 auxílios referente ao emprego **(A2)**?\n",
    "* tem foro privilegiado **(A3)**?\n",
    "* responde ou já respondeu processo judicial **(A4)**?\n",
    "* o cargo ocupado requer curso superior **(A5)**?"
   ]
  },
  {
   "cell_type": "markdown",
   "metadata": {},
   "source": [
    "## Dados de treinamento\n",
    "\n",
    "* Usaremos 10 indivíduos para realizar o treinamento do algoritmo de aprendizagem de máquina. \n",
    "* Observe que as colunas representam os atributos $A1...A5$ e as linhas representam os indivíduos (instâncias).\n",
    "* A propósito, os dados são fictícios e não necessariamente representam a verdade sobre os indivíduos mencionados."
   ]
  },
  {
   "cell_type": "code",
   "execution_count": 13,
   "metadata": {
    "collapsed": true
   },
   "outputs": [],
   "source": [
    "X_train = [\n",
    "    [1, 1, 1, 1, 1],  #juiz Sérgio Moro\n",
    "    [0, 0, 0, 0, 1],  #professor Filipe\n",
    "    [1, 1, 1, 1, 0],  #senador Romero Jucá\n",
    "    [0, 1, 1, 0, 0],  #prefeito do município de Normandia\n",
    "    [1, 1, 1, 0, 0],  #deputado federal Messias de Jesus\n",
    "    [0, 0, 0, 1, 0],  #Seu João (pedreiro)\n",
    "    [1, 0, 0, 1, 0],  #Silvio Santos (empresário)\n",
    "    [1, 1, 1, 0, 0],  #General Marechal (militar)\n",
    "    [1, 0, 0, 0, 1],  #Fulano (médico)\n",
    "    [1, 1, 1, 1, 0]   #Deputado Jair Bolsonaro (militar e deputado)\n",
    "]"
   ]
  },
  {
   "cell_type": "markdown",
   "metadata": {},
   "source": [
    "## Classes dos dados de treinamento\n",
    "\n",
    "* Em aprendizagem de máquina supervisionada, as classes (também conhecida como variávies dependentes, variáveis preditivas, target ou rótulos) são conhecidas. \n",
    "* Em outras palavras, as respostas já são conhecidas. \n",
    "* No problema em destaque aqui, para cada um dos indivíduos listados acima, nós já sabemos se eles são políticos ou não. \n",
    "* Iremos representar como $0$ as pessoas que não são políticos e com $1$ os políticos. \n",
    "* Observe que a primeira linha do vetor $y\\_train$ (abaixo) representa a classe da primeira instância da matriz $X\\_train$ acima. \n",
    "    * Esse lógica segue para as demais instâncias."
   ]
  },
  {
   "cell_type": "code",
   "execution_count": 14,
   "metadata": {
    "collapsed": true
   },
   "outputs": [],
   "source": [
    "y_train = [\n",
    "     0, #juiz Sérgio Moro\n",
    "     0, #professor Filipe\n",
    "     1, #senador Romero Jucá\n",
    "     1, #prefeito do município de Normandia\n",
    "     1, #deputado federal Messias de Jesus\n",
    "     0, #Seu João (pedreiro)\n",
    "     0, #Silvio Santos (empresário)\n",
    "     0, #General Marechal (militar)\n",
    "     0, #Fulano (médico)\n",
    "     1  #Deputado Jair Bolsonaro (militar e deputado)\n",
    "]"
   ]
  },
  {
   "cell_type": "markdown",
   "metadata": {},
   "source": [
    "## Dados de teste\n",
    "\n",
    "* Agora vamos usar alguns dados para testar o modelo preditivo que vamos construir. \n",
    "* Os dados de teste devem possuir o mesmo número de colunas e o mesmo tipo de dados nas colunas que os dados de treinamento."
   ]
  },
  {
   "cell_type": "code",
   "execution_count": 15,
   "metadata": {
    "collapsed": true
   },
   "outputs": [],
   "source": [
    "X_test = [\n",
    "    [1, 1, 1, 1, 0], #Temer\n",
    "    [0, 0, 0, 0, 1], #Leandro Galvão\n",
    "    [1, 0, 0, 1, 1], #Wesley Safadão\n",
    "    [1, 1, 1, 1, 1], #Ministro Gilmar Mendes\n",
    "    [1, 1, 1, 0, 1], #Politico honesto\n",
    "]"
   ]
  },
  {
   "cell_type": "markdown",
   "metadata": {},
   "source": [
    "## Classe dos dados de teste"
   ]
  },
  {
   "cell_type": "code",
   "execution_count": 16,
   "metadata": {
    "collapsed": true
   },
   "outputs": [],
   "source": [
    "y_test = [\n",
    "    1, #Temer\n",
    "    0, #Leandro Galvão\n",
    "    0, #Wesley Safadão\n",
    "    0, #Ministro Gilmar Mendes\n",
    "    1  #Politico honesto\n",
    "]"
   ]
  },
  {
   "cell_type": "markdown",
   "metadata": {},
   "source": [
    "## Treinamento do modelo\n",
    "\n",
    "* Para treinar o modelo, iremos utilizar um algoritmo bem simples: Naive Bayes. \n",
    "* Como nossos dados são dicotômicos, iremos usar a distribuição de Bernolli que é empregada em distribuições binomiais."
   ]
  },
  {
   "cell_type": "code",
   "execution_count": 17,
   "metadata": {},
   "outputs": [
    {
     "data": {
      "text/plain": [
       "BernoulliNB(alpha=1.0, binarize=0.0, class_prior=None, fit_prior=True)"
      ]
     },
     "execution_count": 17,
     "metadata": {},
     "output_type": "execute_result"
    }
   ],
   "source": [
    "from sklearn.naive_bayes import BernoulliNB\n",
    "\n",
    "clf = BernoulliNB()\n",
    "clf.fit(X_train, y_train)"
   ]
  },
  {
   "cell_type": "markdown",
   "metadata": {},
   "source": [
    "## Teste do modelo\n",
    "\n",
    "* Faremos o teste do modelo com os dados de teste, isto é, dados não conhecidos pelo modelo\n",
    "* Depois iremos apresentar os resultados inferidos."
   ]
  },
  {
   "cell_type": "code",
   "execution_count": 18,
   "metadata": {},
   "outputs": [
    {
     "data": {
      "text/plain": [
       "array([1, 0, 0, 1, 1])"
      ]
     },
     "execution_count": 18,
     "metadata": {},
     "output_type": "execute_result"
    }
   ],
   "source": [
    "resp = clf.predict(X_test)\n",
    "resp"
   ]
  },
  {
   "cell_type": "markdown",
   "metadata": {},
   "source": [
    "## Analisando as respostas do modelo preditivo\n",
    "\n",
    "* Um forma de verificar se o modelo acertou é calculando a diferença entre o valor estimado pelo modelo preditivo e o valor real. \n",
    "    * Caso a diferença seja $0$, então o modelo acerto, do contrário o modelo errou.\n",
    "* Para ilustrar, imagine que o modelo estimou que o Temer é um político (resultado estimado é $1$). \n",
    "    * Note que o temer é um político logo sua classe é $1$. \n",
    "    * Assim a diferença entre o valor estimado e o valor real é zero ($1-1 = 0$).\n",
    "* Observe que no caso abaixo, houve apenas um erro referente a variável 'Ministro Gilmar Mendes'. \n",
    "    * Ou seja, o algoritmo estimou erradamente que o ministro é um político."
   ]
  },
  {
   "cell_type": "code",
   "execution_count": 19,
   "metadata": {},
   "outputs": [
    {
     "data": {
      "text/plain": [
       "array([0, 0, 0, 1, 0])"
      ]
     },
     "execution_count": 19,
     "metadata": {},
     "output_type": "execute_result"
    }
   ],
   "source": [
    "diferencas = resp - y_test\n",
    "diferencas"
   ]
  },
  {
   "cell_type": "markdown",
   "metadata": {},
   "source": [
    "## Calculando a acurácia do modelo preditivo\n",
    "\n",
    "* Agora vamos percorrer a lista 'diferencas' para verificar a quantidade de $0s$. \n",
    "* Depois, divideremos essa quantidade pelo total de casos de teste. \n",
    "    * Dessa forma, iremos obter a acurácia do modelo preditivo."
   ]
  },
  {
   "cell_type": "code",
   "execution_count": 20,
   "metadata": {},
   "outputs": [
    {
     "data": {
      "text/plain": [
       "0.8"
      ]
     },
     "execution_count": 20,
     "metadata": {},
     "output_type": "execute_result"
    }
   ],
   "source": [
    "acertos = [a for a in diferencas if a==0]\n",
    "\n",
    "total_acertos = len(acertos)\n",
    "total_teste = len(y_test)\n",
    "\n",
    "acuracia = total_acertos/total_teste\n",
    "acuracia"
   ]
  },
  {
   "cell_type": "markdown",
   "metadata": {},
   "source": [
    "## Analisando as probabilidades das estimativas\n",
    "\n",
    "* Abaixo iremos analisar a confiança da estimativa ao declarar que um indivíduo é político ou não.\n",
    "* Na primeira coluna temos a probabilidade da classe ser $0$ e na segunda coluna da classe ser $1$.\n",
    "* Observe que na instância em que o modelo errou, foi um caso onde o modelo estava 'menos confiante' se o indivíduo era um político."
   ]
  },
  {
   "cell_type": "code",
   "execution_count": 21,
   "metadata": {},
   "outputs": [
    {
     "data": {
      "text/plain": [
       "array([[ 0.14592647,  0.85407353],\n",
       "       [ 0.98614794,  0.01385206],\n",
       "       [ 0.98342345,  0.01657655],\n",
       "       [ 0.46071203,  0.53928797],\n",
       "       [ 0.46071203,  0.53928797]])"
      ]
     },
     "execution_count": 21,
     "metadata": {},
     "output_type": "execute_result"
    }
   ],
   "source": [
    "resp_prob = clf.predict_proba(X_test)\n",
    "resp_prob"
   ]
  },
  {
   "cell_type": "code",
   "execution_count": 25,
   "metadata": {},
   "outputs": [
    {
     "data": {
      "text/plain": [
       "array([1, 0, 0, 1, 1])"
      ]
     },
     "execution_count": 25,
     "metadata": {},
     "output_type": "execute_result"
    }
   ],
   "source": [
    "clf.predict(X_test)"
   ]
  },
  {
   "cell_type": "markdown",
   "metadata": {},
   "source": [
    "## <font color=red> Exercício em Sala </font>\n",
    "\n",
    "1. Aumente o número de atributos (novas perguntas) e instâncias (novas pessoas) da base de treino e teste. Treine novamente o modelo e calcule a acurácia."
   ]
  },
  {
   "cell_type": "markdown",
   "metadata": {},
   "source": [
    "## Materiais para estudo:\n",
    "\n",
    "* [Hands-On Machine Learning with Scikit-Learn and TensorFlow - O'Reilly] (http://shop.oreilly.com/product/0636920052289.do)\n",
    "    * [Notebooks do livro no github](https://github.com/amitanalyste/aurelienGeron)\n",
    "* [Intro to Machine Learning - Udacity](https://br.udacity.com/course/intro-to-machine-learning--ud120)\n",
    "* [Documentação scikit-learn](http://scikit-learn.org/)\n",
    "* [Machine Learning - Coursera](https://pt.coursera.org/learn/machine-learning)\n",
    "* Livro [An Introduction to Statistical Learning](http://www-bcf.usc.edu/~gareth/ISL/)"
   ]
  }
 ],
 "metadata": {
  "kernelspec": {
   "display_name": "Python 3",
   "language": "python",
   "name": "python3"
  },
  "language_info": {
   "codemirror_mode": {
    "name": "ipython",
    "version": 3
   },
   "file_extension": ".py",
   "mimetype": "text/x-python",
   "name": "python",
   "nbconvert_exporter": "python",
   "pygments_lexer": "ipython3",
   "version": "3.6.1"
  }
 },
 "nbformat": 4,
 "nbformat_minor": 2
}
